{
 "cells": [
  {
   "cell_type": "markdown",
   "id": "d00158d7",
   "metadata": {},
   "source": [
    "# Example on using easyquiz for quiz creation"
   ]
  },
  {
   "cell_type": "markdown",
   "id": "ddb36d29",
   "metadata": {},
   "source": [
    "This example assumes that easyquiz and Jupyter notebooks (or equivalent) are correctly installed in your system.\n",
    "\n",
    "The package contains two classes:\n",
    "+ **QuizQuestion** to create multiple choice questions\n",
    "+ **Quiz** to create a quiz\n",
    "\n",
    "But first let's import the package"
   ]
  },
  {
   "cell_type": "code",
   "execution_count": null,
   "id": "1baec6ce",
   "metadata": {},
   "outputs": [],
   "source": [
    "import easyquiz as eq"
   ]
  },
  {
   "cell_type": "markdown",
   "id": "86569aa4",
   "metadata": {},
   "source": [
    "## Create a question with **QuizQuestion** class"
   ]
  },
  {
   "cell_type": "code",
   "execution_count": null,
   "id": "db90099d",
   "metadata": {},
   "outputs": [],
   "source": [
    "question_1 = eq.QuizQuestion(statement=None, options=None, solution=None) # create an empty question"
   ]
  },
  {
   "cell_type": "markdown",
   "id": "1d64e9b8",
   "metadata": {},
   "source": [
    "The question statement argument is optional (None is the default value). If *statement* is set to None or it is not provided, the statement will not be defined in object creation. To add it later use **add_statement()** method.\n",
    "\n",
    "Statement has to be defined with a **string**."
   ]
  },
  {
   "cell_type": "code",
   "execution_count": null,
   "id": "8c5a779f",
   "metadata": {},
   "outputs": [],
   "source": [
    "statement_1 = 'What kind of animal is a feline'\n",
    "question_1.add_statement(statement_1)"
   ]
  },
  {
   "cell_type": "markdown",
   "id": "1c96dac0",
   "metadata": {},
   "source": [
    "The options argument is optional (None is the default value). If the *options* is set to None or it is not provided, the options will not be defined in object creation. To add it later use **add_options()** method.\n",
    "\n",
    "*options* defines the possible answers to the question.\n",
    "\n",
    "Options has to be defined with a **list of strings**."
   ]
  },
  {
   "cell_type": "code",
   "execution_count": null,
   "id": "043142df",
   "metadata": {},
   "outputs": [],
   "source": [
    "options_1 = ['Dog','Elephant','Cat']\n",
    "question_1.add_options(options_1)"
   ]
  },
  {
   "cell_type": "code",
   "execution_count": null,
   "id": "a217f4c3",
   "metadata": {},
   "outputs": [],
   "source": [
    "display(question_1._options)"
   ]
  },
  {
   "cell_type": "markdown",
   "id": "ab921554",
   "metadata": {},
   "source": [
    "The solution argument is optional (None is the default value). If *solution* is set to None or it is not provided, the solution will not be defined in object creation. To add it later use **add_solution()** method.\n",
    "\n",
    "*solution* defines the correct answer to the question.\n",
    "\n",
    "Options has to be defined with a **list of strings**."
   ]
  },
  {
   "cell_type": "code",
   "execution_count": null,
   "id": "131187f3",
   "metadata": {},
   "outputs": [],
   "source": [
    "solution_1 = 'Cat'\n",
    "question_1.add_solution(solution_1)"
   ]
  },
  {
   "cell_type": "markdown",
   "id": "970069d8",
   "metadata": {},
   "source": [
    "Questions can be created directly with all the information"
   ]
  },
  {
   "cell_type": "code",
   "execution_count": null,
   "id": "2ec1b13f",
   "metadata": {},
   "outputs": [],
   "source": [
    "statement_2 = 'What kind of animal is a canine'\n",
    "options_2 = ['Dog','Elephant','Cat']\n",
    "solution_2 = 'Dog'\n",
    "question_2 = eq.QuizQuestion(statement=statement_2, options=options_2, solution=solution_2)"
   ]
  },
  {
   "cell_type": "markdown",
   "id": "ed35e68c",
   "metadata": {},
   "source": [
    "## Create a quiz with Quiz class from scratch"
   ]
  },
  {
   "cell_type": "code",
   "execution_count": null,
   "id": "2909b9d2",
   "metadata": {},
   "outputs": [],
   "source": [
    "quiz_1 = eq.Quiz(title=None, description=None, lang='eng', load_json=False) # create empty quiz"
   ]
  },
  {
   "cell_type": "code",
   "execution_count": null,
   "id": "d71aa5df",
   "metadata": {},
   "outputs": [],
   "source": [
    "# Populate quiz_1\n",
    "quiz_1.change_title('Animal Quiz (easyquiz example)')\n",
    "quiz_1.change_description('Answer the following questions')\n",
    "quiz_1.add_questions([question_1, question_2])"
   ]
  },
  {
   "cell_type": "code",
   "execution_count": null,
   "id": "fef33a3d",
   "metadata": {},
   "outputs": [],
   "source": [
    "quiz_1.show() # show quiz_1"
   ]
  },
  {
   "cell_type": "code",
   "execution_count": null,
   "id": "3e428a41",
   "metadata": {},
   "outputs": [],
   "source": [
    "# the quiz can be exported as a json file\n",
    "filename_export = 'quiz_01.json'\n",
    "quiz_1.save_json(filename_export)"
   ]
  },
  {
   "cell_type": "markdown",
   "id": "f8baaf2e",
   "metadata": {},
   "source": [
    "## Import a Quiz from a json file"
   ]
  },
  {
   "cell_type": "code",
   "execution_count": null,
   "id": "cdfcdc2d",
   "metadata": {},
   "outputs": [],
   "source": [
    "filename_import = 'quiz_01.json'\n",
    "quiz_2 = eq.Quiz(load_json=filename_import) # load quiz fropm json"
   ]
  },
  {
   "cell_type": "code",
   "execution_count": null,
   "id": "a2f63de1",
   "metadata": {},
   "outputs": [],
   "source": [
    "quiz_2.show()"
   ]
  }
 ],
 "metadata": {
  "kernelspec": {
   "display_name": "Python 3 (ipykernel)",
   "language": "python",
   "name": "python3"
  },
  "language_info": {
   "codemirror_mode": {
    "name": "ipython",
    "version": 3
   },
   "file_extension": ".py",
   "mimetype": "text/x-python",
   "name": "python",
   "nbconvert_exporter": "python",
   "pygments_lexer": "ipython3",
   "version": "3.8.12"
  }
 },
 "nbformat": 4,
 "nbformat_minor": 5
}
