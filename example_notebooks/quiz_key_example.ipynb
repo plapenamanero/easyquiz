{
  "nbformat": 4,
  "nbformat_minor": 0,
  "metadata": {
    "colab": {
      "name": "quiz_key_example.ipynb",
      "provenance": []
    },
    "kernelspec": {
      "name": "python3",
      "display_name": "Python 3"
    },
    "language_info": {
      "name": "python"
    }
  },
  "cells": [
    {
      "cell_type": "markdown",
      "source": [
        "# Example on using quiz key"
      ],
      "metadata": {
        "id": "6cDtSZ1jI5by"
      }
    },
    {
      "cell_type": "markdown",
      "source": [
        "Import package:"
      ],
      "metadata": {
        "id": "4bgIIrn5LS54"
      }
    },
    {
      "cell_type": "code",
      "execution_count": 1,
      "metadata": {
        "id": "Da-Aibv1I0cy"
      },
      "outputs": [],
      "source": [
        "import easyquiz as eq"
      ]
    },
    {
      "cell_type": "markdown",
      "source": [
        "Load a quiz from json file:"
      ],
      "metadata": {
        "id": "g-Sc-F7QLV0I"
      }
    },
    {
      "cell_type": "code",
      "source": [
        "q1 = eq.Quiz(load_json='quiz_01.json')"
      ],
      "metadata": {
        "id": "sfExh95gJbSW"
      },
      "execution_count": 2,
      "outputs": []
    },
    {
      "cell_type": "markdown",
      "source": [
        "Every quiz is assigned a random 20 character long string with lower and upper case letters. It is stored in the instance variable *quiz_key*:"
      ],
      "metadata": {
        "id": "PVR0ZQjpLcU3"
      }
    },
    {
      "cell_type": "code",
      "source": [
        "q1.quiz_key"
      ],
      "metadata": {
        "colab": {
          "base_uri": "https://localhost:8080/",
          "height": 37
        },
        "id": "nHM0l0PFJxxO",
        "outputId": "a7abd392-b5c1-4010-e46a-3eaa2106cd5f"
      },
      "execution_count": 3,
      "outputs": [
        {
          "output_type": "execute_result",
          "data": {
            "application/vnd.google.colaboratory.intrinsic+json": {
              "type": "string"
            },
            "text/plain": [
              "'ODLasRnAnnealDSvmmas'"
            ]
          },
          "metadata": {},
          "execution_count": 3
        }
      ]
    },
    {
      "cell_type": "markdown",
      "source": [
        "Quiz key is also accesible printing the quiz object variable:"
      ],
      "metadata": {
        "id": "GcOF45pyL86V"
      }
    },
    {
      "cell_type": "code",
      "source": [
        "print(q1)"
      ],
      "metadata": {
        "colab": {
          "base_uri": "https://localhost:8080/"
        },
        "id": "3p8VluCXJ1Lt",
        "outputId": "0c90b734-b6f6-441b-e1c4-89c1b4b646dd"
      },
      "execution_count": 4,
      "outputs": [
        {
          "output_type": "stream",
          "name": "stdout",
          "text": [
            "easyquiz Quiz (ODLasRnAnnealDSvmmas)\n"
          ]
        }
      ]
    },
    {
      "cell_type": "markdown",
      "source": [
        "If and ID string is added in the method *show()*, an activity key is returned when all answers are correct:"
      ],
      "metadata": {
        "id": "8MwkHPlqMS8Q"
      }
    },
    {
      "cell_type": "code",
      "source": [
        "q1.show(id='12345678')"
      ],
      "metadata": {
        "id": "DAOj22zUKWZ-"
      },
      "execution_count": null,
      "outputs": []
    },
    {
      "cell_type": "markdown",
      "source": [
        "With the function *eq.formative.check_key* can be check if an activity key corresponds with the provided ID and quiz:"
      ],
      "metadata": {
        "id": "AyaNx0mmMtO5"
      }
    },
    {
      "cell_type": "code",
      "source": [
        "eq.formative.check_key(id='12345678', quiz=q1, key_comp='1ce1cf7cbfd67d1cb35ba74e805ce4b6')"
      ],
      "metadata": {
        "colab": {
          "base_uri": "https://localhost:8080/"
        },
        "id": "tEVt0L_LJ4IR",
        "outputId": "a9b07709-5185-4f42-b280-742952277fde"
      },
      "execution_count": 9,
      "outputs": [
        {
          "output_type": "execute_result",
          "data": {
            "text/plain": [
              "True"
            ]
          },
          "metadata": {},
          "execution_count": 9
        }
      ]
    },
    {
      "cell_type": "code",
      "source": [
        "eq.formative.check_key('12345678', q1, 'not_the_correct_key')"
      ],
      "metadata": {
        "colab": {
          "base_uri": "https://localhost:8080/"
        },
        "id": "40hFD6yLKho4",
        "outputId": "c656df75-c72e-4352-8026-08560e5fc52b"
      },
      "execution_count": 8,
      "outputs": [
        {
          "output_type": "execute_result",
          "data": {
            "text/plain": [
              "False"
            ]
          },
          "metadata": {},
          "execution_count": 8
        }
      ]
    }
  ]
}